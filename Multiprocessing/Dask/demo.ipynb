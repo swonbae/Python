{
 "cells": [
  {
   "cell_type": "code",
   "execution_count": null,
   "source": [
    "from time import sleep\r\n",
    "\r\n",
    "def inc(x):\r\n",
    "    sleep(1)\r\n",
    "    return x + 1\r\n",
    "\r\n",
    "def add(x, y):\r\n",
    "    sleep(1)\r\n",
    "    return x + y"
   ],
   "outputs": [],
   "metadata": {}
  },
  {
   "cell_type": "code",
   "execution_count": null,
   "source": [
    "%%time\r\n",
    "\r\n",
    "x = inc(1)\r\n",
    "y = inc(2)\r\n",
    "z = add(x, y)"
   ],
   "outputs": [],
   "metadata": {}
  },
  {
   "cell_type": "markdown",
   "source": [
    "## Parallelize with the `dask.delayed`"
   ],
   "metadata": {}
  },
  {
   "cell_type": "code",
   "execution_count": null,
   "source": [
    "from dask import delayed\r\n",
    "\r\n",
    "@delayed\r\n",
    "def inc_d(x):\r\n",
    "    sleep(1)\r\n",
    "    return x + 1\r\n",
    "\r\n",
    "@delayed\r\n",
    "def add_d(x, y):\r\n",
    "    sleep(1)\r\n",
    "    return x + y"
   ],
   "outputs": [],
   "metadata": {}
  },
  {
   "cell_type": "code",
   "execution_count": null,
   "source": [
    "%%time\r\n",
    "\r\n",
    "x = inc_d(1)\r\n",
    "y = inc_d(2)\r\n",
    "z = add_d(x, y)"
   ],
   "outputs": [],
   "metadata": {}
  },
  {
   "cell_type": "code",
   "execution_count": null,
   "source": [
    "# z.visualize()"
   ],
   "outputs": [],
   "metadata": {}
  },
  {
   "cell_type": "code",
   "execution_count": null,
   "source": [
    "%%time\r\n",
    "\r\n",
    "z.compute()"
   ],
   "outputs": [],
   "metadata": {}
  },
  {
   "cell_type": "markdown",
   "source": [
    "## Parallelizing a `for` loop"
   ],
   "metadata": {}
  },
  {
   "cell_type": "code",
   "execution_count": null,
   "source": [
    "data = [1, 2, 3, 4, 5, 6, 7, 8]"
   ],
   "outputs": [],
   "metadata": {}
  },
  {
   "cell_type": "code",
   "execution_count": null,
   "source": [
    "%%time\r\n",
    "results = []\r\n",
    "for x in data:\r\n",
    "    y = inc(x)\r\n",
    "    results.append(y)\r\n",
    "\r\n",
    "total = sum(results)"
   ],
   "outputs": [],
   "metadata": {}
  },
  {
   "cell_type": "code",
   "execution_count": null,
   "source": [
    "%%time\r\n",
    "results = []\r\n",
    "\r\n",
    "for x in data:\r\n",
    "    y = delayed(inc)(x)\r\n",
    "    results.append(y)\r\n",
    "\r\n",
    "total = delayed(sum)(results)\r\n",
    "\r\n",
    "total.compute()"
   ],
   "outputs": [],
   "metadata": {}
  },
  {
   "cell_type": "code",
   "execution_count": null,
   "source": [
    "# total.visualize()"
   ],
   "outputs": [],
   "metadata": {}
  },
  {
   "cell_type": "markdown",
   "source": [
    "# Dask DataFrame"
   ],
   "metadata": {}
  },
  {
   "cell_type": "code",
   "execution_count": null,
   "source": [
    "# Download the NYC Flights dataset to our workspace\r\n",
    "import urllib\r\n",
    "\r\n",
    "print(\"- Downloading NYC Fligths dataset... \", end='', flush=True)\r\n",
    "url = 'https://storage.googleapis.com/dask-tutorial-data/nycflights.tar.gz'\r\n",
    "filename, headers = urllib.request.urlretrieve(url, 'nycflights.tar.gz')\r\n",
    "print('Done!', flush=True)"
   ],
   "outputs": [],
   "metadata": {}
  },
  {
   "cell_type": "code",
   "execution_count": null,
   "source": [
    "import tarfile\r\n",
    "\r\n",
    "# Extract the .csv files from the tar file\r\n",
    "with tarfile.open(filename, mode='r:gz') as flights:\r\n",
    "    flights.extractall('data/')"
   ],
   "outputs": [],
   "metadata": {}
  },
  {
   "cell_type": "code",
   "execution_count": null,
   "source": [
    "import os\r\n",
    "import dask.dataframe as dd\r\n",
    "\r\n",
    "df = dd.read_csv(os.path.join('data', 'nycflights', '*.csv'), parse_dates={'Date': [0, 1, 2]})\r\n",
    "\r\n",
    "df"
   ],
   "outputs": [],
   "metadata": {}
  },
  {
   "cell_type": "code",
   "execution_count": null,
   "source": [
    "df.head()"
   ],
   "outputs": [],
   "metadata": {}
  },
  {
   "cell_type": "code",
   "execution_count": null,
   "source": [
    "# df.tail()   # ValueError: Mismatched dtypes found in `pd.read_csv`/`pd.read_table`"
   ],
   "outputs": [],
   "metadata": {}
  },
  {
   "cell_type": "code",
   "execution_count": null,
   "source": [
    "# For columns with mixed dtypes we have to infer the correct type\r\n",
    "df = dd.read_csv(os.path.join('data', 'nycflights', '*.csv'),\r\n",
    "                    parse_dates={'Date': [0, 1, 2]},\r\n",
    "                    dtype={'TailNum': str, 'CRSElapsedTime': float, 'Cancelled': bool}\r\n",
    ")"
   ],
   "outputs": [],
   "metadata": {}
  },
  {
   "cell_type": "code",
   "execution_count": null,
   "source": [
    "df.tail()"
   ],
   "outputs": [],
   "metadata": {}
  },
  {
   "cell_type": "markdown",
   "source": [
    "## Computations with `dask.dataframe`"
   ],
   "metadata": {}
  },
  {
   "cell_type": "code",
   "execution_count": null,
   "source": [
    "%time df.DepDelay.max().compute()"
   ],
   "outputs": [],
   "metadata": {}
  },
  {
   "cell_type": "code",
   "execution_count": null,
   "source": [
    "# df.DepDelay.max().visualize(rankdir='LR', size='12, 12!')"
   ],
   "outputs": [],
   "metadata": {}
  },
  {
   "cell_type": "markdown",
   "source": [
    "## Machine Learning with Dask"
   ],
   "metadata": {}
  },
  {
   "cell_type": "code",
   "execution_count": null,
   "source": [
    "# You can grab columns from the Dask DataFrame just as you would with Pandas\r\n",
    "df_train = df[['CRSDepTime', 'CRSArrTime', 'Cancelled']]\r\n",
    "\r\n",
    "df_train.shape"
   ],
   "outputs": [],
   "metadata": {}
  },
  {
   "cell_type": "code",
   "execution_count": null,
   "source": [
    "# Perform searches and operations on the data\r\n",
    "df_train.isnull().sum().compute()"
   ],
   "outputs": [],
   "metadata": {}
  }
 ],
 "metadata": {
  "orig_nbformat": 4,
  "language_info": {
   "name": "python",
   "version": "3.8.10",
   "mimetype": "text/x-python",
   "codemirror_mode": {
    "name": "ipython",
    "version": 3
   },
   "pygments_lexer": "ipython3",
   "nbconvert_exporter": "python",
   "file_extension": ".py"
  },
  "kernelspec": {
   "name": "python3",
   "display_name": "Python 3.8.10 64-bit"
  },
  "interpreter": {
   "hash": "45db40298448ab85ed3f29a7e55bfac64bbac2e38d7b2050e7b969fae675636b"
  }
 },
 "nbformat": 4,
 "nbformat_minor": 2
}