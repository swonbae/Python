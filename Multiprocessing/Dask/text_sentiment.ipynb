{
 "cells": [
  {
   "cell_type": "code",
   "execution_count": null,
   "source": [
    "import pandas as pd\r\n",
    "import dask.dataframe as dd     # Dask Multiprocessing\r\n",
    "from textblob import TextBlob   # Python library for Natural Language Processing (NLP)"
   ],
   "outputs": [],
   "metadata": {}
  },
  {
   "cell_type": "code",
   "execution_count": null,
   "source": [
    "data_text = ['Hello World I am good'] * 50000\r\n",
    "\r\n",
    "df = pd.DataFrame(data_text, columns=['text'])\r\n",
    "\r\n",
    "df.shape"
   ],
   "outputs": [],
   "metadata": {}
  },
  {
   "cell_type": "code",
   "execution_count": null,
   "source": [
    "# sentiment extraction function that takes a long time to execute\r\n",
    "def get_sentiment(text):\r\n",
    "    blob = TextBlob(text)\r\n",
    "    return blob.sentiment"
   ],
   "outputs": [],
   "metadata": {}
  },
  {
   "cell_type": "code",
   "execution_count": null,
   "source": [
    "%time new_df = df['text'].apply(get_sentiment)  # 3.x s with 10000 data, 14-15 s with 50000 data\r\n",
    "\r\n",
    "new_df"
   ],
   "outputs": [],
   "metadata": {}
  },
  {
   "cell_type": "code",
   "execution_count": null,
   "source": [
    "# Dask - quite slow on my PC\r\n",
    "ddata = dd.from_pandas(df, npartitions=24)\r\n",
    "\r\n",
    "# %time new_df = ddata.map_partitions(lambda df: df.apply(lambda row: get_sentiment(row['text']), axis=1)).compute(scheduler='processes') # 30-40 s with 10000 data\r\n",
    "%time new_df = ddata.map_partitions(lambda df: df.apply(lambda row: get_sentiment(row['text']), axis=1)).compute()  # 20 s with 50000 data\r\n",
    "\r\n",
    "new_df"
   ],
   "outputs": [],
   "metadata": {}
  },
  {
   "cell_type": "code",
   "execution_count": null,
   "source": [],
   "outputs": [],
   "metadata": {}
  }
 ],
 "metadata": {
  "orig_nbformat": 4,
  "language_info": {
   "name": "python",
   "version": "3.8.10",
   "mimetype": "text/x-python",
   "codemirror_mode": {
    "name": "ipython",
    "version": 3
   },
   "pygments_lexer": "ipython3",
   "nbconvert_exporter": "python",
   "file_extension": ".py"
  },
  "kernelspec": {
   "name": "python3",
   "display_name": "Python 3.8.10 64-bit"
  },
  "interpreter": {
   "hash": "45db40298448ab85ed3f29a7e55bfac64bbac2e38d7b2050e7b969fae675636b"
  }
 },
 "nbformat": 4,
 "nbformat_minor": 2
}