{
 "cells": [
  {
   "cell_type": "code",
   "execution_count": null,
   "source": [
    "from pymongo import MongoClient\r\n",
    "\r\n",
    "client = MongoClient('mongodb://localhost:27017/')\r\n",
    "\r\n",
    "db = client['Student']\r\n",
    "\r\n",
    "collection = db['scores']"
   ],
   "outputs": [],
   "metadata": {}
  },
  {
   "cell_type": "code",
   "execution_count": null,
   "source": [
    "data = [\r\n",
    "    {'user': 'Frodo', 'subject': 'Database', 'score': 80},\r\n",
    "    {'user': 'Sam', 'subject': 'JavaScript', 'score': 90},\r\n",
    "    {'user': 'Sam', 'subject': 'Database', 'score': 85},\r\n",
    "    {'user': 'Frodo', 'subject': 'JavaScript', 'score': 75},\r\n",
    "    {'user': 'Sam', 'subject': 'Data Science', 'score': 60},\r\n",
    "    {'user': 'Frodo', 'subject': 'Data Science', 'score': 95},\r\n",
    "]\r\n",
    "\r\n",
    "collection.insert_many(data)"
   ],
   "outputs": [],
   "metadata": {}
  },
  {
   "cell_type": "code",
   "execution_count": null,
   "source": [
    "results = collection.aggregate(\r\n",
    "    [{\r\n",
    "        '$group': {\r\n",
    "            '_id': '$user', \r\n",
    "            'Total Subject': {'$sum': 1}\r\n",
    "        }\r\n",
    "    }]\r\n",
    ")\r\n",
    "\r\n",
    "for result in results:\r\n",
    "    print(result)"
   ],
   "outputs": [],
   "metadata": {}
  },
  {
   "cell_type": "code",
   "execution_count": null,
   "source": [
    "results = collection.aggregate(\r\n",
    "    [{\r\n",
    "        '$group': {\r\n",
    "            '_id': '$user', \r\n",
    "            'Total Score': {'$sum': '$score'}\r\n",
    "        }\r\n",
    "    }]\r\n",
    ")\r\n",
    "\r\n",
    "for result in results:\r\n",
    "    print(result)"
   ],
   "outputs": [],
   "metadata": {}
  },
  {
   "cell_type": "code",
   "execution_count": null,
   "source": [
    "results = collection.aggregate(\r\n",
    "    [{\r\n",
    "        '$group': {\r\n",
    "            '_id': '$user', \r\n",
    "            'Average Score': {'$avg': '$score'}\r\n",
    "        }\r\n",
    "    }]\r\n",
    ")\r\n",
    "\r\n",
    "for result in results:\r\n",
    "    print(result)"
   ],
   "outputs": [],
   "metadata": {}
  },
  {
   "cell_type": "code",
   "execution_count": null,
   "source": [
    "import datetime\r\n",
    "\r\n",
    "data = [\r\n",
    "    {'_id': 1, 'item': 'abc', 'price': 10, 'quantity': 2, 'date': datetime.datetime.utcnow()},\r\n",
    "    {'_id': 2, 'item': 'jkl', 'price': 20, 'quantity': 1, 'date': datetime.datetime.utcnow()},\r\n",
    "    {'_id': 3, 'item': 'xyz', 'price': 5, 'quantity': 5, 'date': datetime.datetime.utcnow()},\r\n",
    "    {'_id': 4, 'item': 'abc', 'price': 10, 'quantity': 10, 'date': datetime.datetime.utcnow()},\r\n",
    "    {'_id': 5, 'item': 'xyz', 'price': 5, 'quantity': 10, 'date': datetime.datetime.utcnow()},\r\n",
    "]"
   ],
   "outputs": [],
   "metadata": {}
  },
  {
   "cell_type": "code",
   "execution_count": null,
   "source": [
    "collection = db['stores']\r\n",
    "collection.insert_many(data)"
   ],
   "outputs": [],
   "metadata": {}
  },
  {
   "cell_type": "code",
   "execution_count": null,
   "source": [
    "results = collection.aggregate(\r\n",
    "    [{\r\n",
    "        '$group': {\r\n",
    "            '_id': '$item', \r\n",
    "            'Average Amount': {'$avg': {'$multiply': ['$price', '$quantity']}},\r\n",
    "            'Average Quantity': {'$avg': '$quantity'}\r\n",
    "        }\r\n",
    "    }]\r\n",
    ")\r\n",
    "\r\n",
    "for result in results:\r\n",
    "    print(result)"
   ],
   "outputs": [],
   "metadata": {}
  },
  {
   "cell_type": "code",
   "execution_count": null,
   "source": [
    "data=[{\r\n",
    "  \"_id\" : 1,\r\n",
    "  \"title\": \"abc123\",\r\n",
    "  \"isbn\": \"0001122223334\",\r\n",
    "  \"author\": { \"last\": \"zzz\", \"first\": \"aaa\" },\r\n",
    "  \"copies\": 5\r\n",
    "},\r\n",
    "{\r\n",
    "  \"_id\" : 2,\r\n",
    "  \"title\": \"Baked Goods\",\r\n",
    "  \"isbn\": \"9999999999999\",\r\n",
    "  \"author\": { \"last\": \"xyz\", \"first\": \"abc\", \"middle\": \"\" },\r\n",
    "  \"copies\": 2\r\n",
    "}\r\n",
    "]"
   ],
   "outputs": [],
   "metadata": {}
  },
  {
   "cell_type": "code",
   "execution_count": null,
   "source": [
    "collection = db['books']\r\n",
    "collection.insert_many(data)"
   ],
   "outputs": [],
   "metadata": {}
  },
  {
   "cell_type": "code",
   "execution_count": null,
   "source": [
    "results = collection.aggregate(\r\n",
    "    [{\r\n",
    "        '$project': {\r\n",
    "            'title': 1, \r\n",
    "            'isbn': 1\r\n",
    "        }\r\n",
    "    }]\r\n",
    ")\r\n",
    "\r\n",
    "for result in results:\r\n",
    "    print(result)"
   ],
   "outputs": [],
   "metadata": {}
  },
  {
   "cell_type": "code",
   "execution_count": null,
   "source": [],
   "outputs": [],
   "metadata": {}
  }
 ],
 "metadata": {
  "orig_nbformat": 4,
  "language_info": {
   "name": "python",
   "version": "3.8.10",
   "mimetype": "text/x-python",
   "codemirror_mode": {
    "name": "ipython",
    "version": 3
   },
   "pygments_lexer": "ipython3",
   "nbconvert_exporter": "python",
   "file_extension": ".py"
  },
  "kernelspec": {
   "name": "python3",
   "display_name": "Python 3.8.10 64-bit"
  },
  "interpreter": {
   "hash": "45db40298448ab85ed3f29a7e55bfac64bbac2e38d7b2050e7b969fae675636b"
  }
 },
 "nbformat": 4,
 "nbformat_minor": 2
}