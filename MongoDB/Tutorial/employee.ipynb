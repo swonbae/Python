{
    "cells": [
        {
            "cell_type": "code",
            "execution_count": null,
            "source": [
                "import pymongo\r\n",
                "\r\n",
                "client = pymongo.MongoClient('mongodb://127.0.0.1:27017/')\r\n",
                "\r\n",
                "db = client['Employee']\r\n",
                "empinfo = db.employee"
            ],
            "outputs": [],
            "metadata": {}
        },
        {
            "cell_type": "code",
            "execution_count": null,
            "source": [
                "record = {\r\n",
                "    'firstname': 'Christopher',\r\n",
                "    'lastname' : 'Nolan',\r\n",
                "    'department': 'Entertainment',\r\n",
                "    'qualification': 'BA',\r\n",
                "    'age': 51\r\n",
                "}\r\n",
                "\r\n",
                "empinfo.insert_one(record)"
            ],
            "outputs": [],
            "metadata": {}
        },
        {
            "cell_type": "code",
            "execution_count": null,
            "source": [
                "records = [{\r\n",
                "    'firstname': 'John',\r\n",
                "    'lastname' : 'Doe',\r\n",
                "    'department': 'Analytics',\r\n",
                "    'qualification': 'statistics',\r\n",
                "    'age': 35\r\n",
                "},\r\n",
                "{\r\n",
                "    'firstname': 'John',\r\n",
                "    'lastname' : 'Snow',\r\n",
                "    'department': 'Analytics',\r\n",
                "    'qualification': 'master',\r\n",
                "    'age': 30\r\n",
                "},\r\n",
                "{\r\n",
                "    'firstname': 'Ygritte',\r\n",
                "    'lastname' : 'Snow',\r\n",
                "    'department': 'Analytics',\r\n",
                "    'qualification': 'phd',\r\n",
                "    'age': 34\r\n",
                "},\r\n",
                "{\r\n",
                "    'firstname': 'Thomas',\r\n",
                "    'lastname' : 'Anderson',\r\n",
                "    'department': 'Cyber Tech',\r\n",
                "    'qualification': 'master',\r\n",
                "    'age': 37\r\n",
                "}]\r\n",
                "\r\n",
                "empinfo.insert_many(records)"
            ],
            "outputs": [],
            "metadata": {}
        },
        {
            "cell_type": "code",
            "execution_count": null,
            "source": [
                "# simple query\r\n",
                "empinfo.find_one()"
            ],
            "outputs": [],
            "metadata": {}
        },
        {
            "cell_type": "code",
            "execution_count": null,
            "source": [
                "# == select * from employee\r\n",
                "for record in empinfo.find({}):\r\n",
                "    print(record)"
            ],
            "outputs": [],
            "metadata": {}
        },
        {
            "cell_type": "code",
            "execution_count": null,
            "source": [
                "# == select * from employee where firstname=John\r\n",
                "for record in empinfo.find({'firstname': 'John'}):\r\n",
                "    print(record)"
            ],
            "outputs": [],
            "metadata": {}
        },
        {
            "cell_type": "code",
            "execution_count": null,
            "source": [
                "# query operators ($in, $lt, $gt)\r\n",
                "for record in empinfo.find({'qualification': {'$in': ['phd', 'master']}}):\r\n",
                "    print(record)"
            ],
            "outputs": [],
            "metadata": {}
        },
        {
            "cell_type": "code",
            "execution_count": null,
            "source": [
                "for record in empinfo.find({'qualification': 'master', 'age': {'$lt': 35}}):\r\n",
                "    print(record)"
            ],
            "outputs": [],
            "metadata": {}
        },
        {
            "cell_type": "code",
            "execution_count": null,
            "source": [
                "for record in empinfo.find({'$or': [{'firstname': 'Christopher'}, {'qualification': 'master'}]}):\r\n",
                "    print(record)"
            ],
            "outputs": [],
            "metadata": {}
        },
        {
            "cell_type": "code",
            "execution_count": null,
            "source": [
                "for record in empinfo.find({'$and': [{'firstname': 'John'}, {'qualification': 'master'}]}):\r\n",
                "    print(record)"
            ],
            "outputs": [],
            "metadata": {}
        },
        {
            "cell_type": "code",
            "execution_count": null,
            "source": [
                "inventory = db.inventory"
            ],
            "outputs": [],
            "metadata": {}
        },
        {
            "cell_type": "code",
            "execution_count": null,
            "source": [
                "inventory.insert_many([\r\n",
                "{\"item\": \"canvas\",\r\n",
                "     \"qty\": 100,\r\n",
                "     \"size\": {\"h\": 28, \"w\": 35.5, \"uom\": \"cm\"},\r\n",
                "     \"status\": \"A\"},\r\n",
                "    {\"item\": \"journal\",\r\n",
                "     \"qty\": 25,\r\n",
                "     \"size\": {\"h\": 14, \"w\": 21, \"uom\": \"cm\"},\r\n",
                "     \"status\": \"A\"},\r\n",
                "    {\"item\": \"mat\",\r\n",
                "     \"qty\": 85,\r\n",
                "     \"size\": {\"h\": 27.9, \"w\": 35.5, \"uom\": \"cm\"},\r\n",
                "     \"status\": \"A\"},\r\n",
                "    {\"item\": \"mousepad\",\r\n",
                "     \"qty\": 25,\r\n",
                "     \"size\": {\"h\": 19, \"w\": 22.85, \"uom\": \"cm\"},\r\n",
                "     \"status\": \"P\"},\r\n",
                "    {\"item\": \"notebook\",\r\n",
                "     \"qty\": 50,\r\n",
                "     \"size\": {\"h\": 8.5, \"w\": 11, \"uom\": \"in\"},\r\n",
                "     \"status\": \"P\"},\r\n",
                "    {\"item\": \"paper\",\r\n",
                "     \"qty\": 100,\r\n",
                "     \"size\": {\"h\": 8.5, \"w\": 11, \"uom\": \"in\"},\r\n",
                "     \"status\": \"D\"},\r\n",
                "    {\"item\": \"planner\",\r\n",
                "     \"qty\": 75,\r\n",
                "     \"size\": {\"h\": 22.85, \"w\": 30, \"uom\": \"cm\"},\r\n",
                "     \"status\": \"D\"},\r\n",
                "    {\"item\": \"postcard\",\r\n",
                "     \"qty\": 45,\r\n",
                "     \"size\": {\"h\": 10, \"w\": 15.25, \"uom\": \"cm\"},\r\n",
                "     \"status\": \"A\"},\r\n",
                "    {\"item\": \"sketchbook\",\r\n",
                "     \"qty\": 80,\r\n",
                "     \"size\": {\"h\": 14, \"w\": 21, \"uom\": \"cm\"},\r\n",
                "     \"status\": \"A\"},\r\n",
                "    {\"item\": \"sketch pad\",\r\n",
                "     \"qty\": 95,\r\n",
                "     \"size\": {\"h\": 22.85, \"w\": 30.5, \"uom\": \"cm\"},\r\n",
                "     \"status\": \"A\"}\r\n",
                "])"
            ],
            "outputs": [],
            "metadata": {}
        },
        {
            "cell_type": "code",
            "execution_count": null,
            "source": [
                "for record in inventory.find({'size': { 'h': 14, 'w': 21,'uom': \"cm\" }}):\r\n",
                "    print(record)"
            ],
            "outputs": [],
            "metadata": {}
        },
        {
            "cell_type": "code",
            "execution_count": null,
            "source": [
                "inventory.update_one(\r\n",
                "    {'item': 'sketch pad'},\r\n",
                "    {'$set': {'size.uom': 'm', 'status': 'P'},\r\n",
                "        '$currentDate': {'lastModified': True}}\r\n",
                ")"
            ],
            "outputs": [],
            "metadata": {}
        },
        {
            "cell_type": "code",
            "execution_count": null,
            "source": [
                "inventory.update_many(\r\n",
                "    {'qty': {'$lt': 50}},\r\n",
                "    {'$set': {'size.uom': 'in', 'status': 'P'},\r\n",
                "        '$currentDate': {'lastModified': True}}\r\n",
                ")"
            ],
            "outputs": [],
            "metadata": {}
        },
        {
            "cell_type": "code",
            "execution_count": null,
            "source": [
                "inventory.replace_one(\r\n",
                "    {'item': 'paper'},\r\n",
                "    {'item': 'paper',\r\n",
                "        'instock': [\r\n",
                "            {'warehouse': 'A', 'qty': 60},\r\n",
                "            {'warehouse': 'B', 'qty': 40}\r\n",
                "        ]}\r\n",
                ")"
            ],
            "outputs": [],
            "metadata": {}
        },
        {
            "cell_type": "code",
            "execution_count": null,
            "source": [],
            "outputs": [],
            "metadata": {}
        }
    ],
    "metadata": {
        "orig_nbformat": 4,
        "language_info": {
            "name": "python",
            "version": "3.8.10",
            "mimetype": "text/x-python",
            "codemirror_mode": {
                "name": "ipython",
                "version": 3
            },
            "pygments_lexer": "ipython3",
            "nbconvert_exporter": "python",
            "file_extension": ".py"
        },
        "kernelspec": {
            "name": "python3",
            "display_name": "Python 3.8.10 64-bit"
        },
        "interpreter": {
            "hash": "45db40298448ab85ed3f29a7e55bfac64bbac2e38d7b2050e7b969fae675636b"
        }
    },
    "nbformat": 4,
    "nbformat_minor": 2
}