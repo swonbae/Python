{
    "cells": [
        {
            "cell_type": "code",
            "execution_count": null,
            "source": [
                "import pymongo\r\n",
                "\r\n",
                "client = pymongo.MongoClient('mongodb://127.0.0.1:27017/')\r\n",
                "\r\n",
                "db = client['Employee']\r\n",
                "empinfo = db.employee"
            ],
            "outputs": [],
            "metadata": {}
        },
        {
            "cell_type": "code",
            "execution_count": null,
            "source": [
                "record = {\r\n",
                "    'firstname': 'Christopher',\r\n",
                "    'lastname' : 'Nolan',\r\n",
                "    'department': 'Entertainment',\r\n",
                "    'qualification': 'BA',\r\n",
                "    'age': 51\r\n",
                "}\r\n",
                "\r\n",
                "empinfo.insert_one(record)"
            ],
            "outputs": [],
            "metadata": {}
        },
        {
            "cell_type": "code",
            "execution_count": null,
            "source": [
                "records = [{\r\n",
                "    'firstname': 'John',\r\n",
                "    'lastname' : 'Doe',\r\n",
                "    'department': 'Analytics',\r\n",
                "    'qualification': 'statistics',\r\n",
                "    'age': 35\r\n",
                "},\r\n",
                "{\r\n",
                "    'firstname': 'John',\r\n",
                "    'lastname' : 'Snow',\r\n",
                "    'department': 'Analytics',\r\n",
                "    'qualification': 'master',\r\n",
                "    'age': 30\r\n",
                "},\r\n",
                "{\r\n",
                "    'firstname': 'Ygritte',\r\n",
                "    'lastname' : 'Snow',\r\n",
                "    'department': 'Analytics',\r\n",
                "    'qualification': 'phd',\r\n",
                "    'age': 34\r\n",
                "},\r\n",
                "{\r\n",
                "    'firstname': 'Thomas',\r\n",
                "    'lastname' : 'Anderson',\r\n",
                "    'department': 'Cyber Tech',\r\n",
                "    'qualification': 'master',\r\n",
                "    'age': 37\r\n",
                "}]\r\n",
                "\r\n",
                "empinfo.insert_many(records)"
            ],
            "outputs": [],
            "metadata": {}
        },
        {
            "cell_type": "code",
            "execution_count": null,
            "source": [
                "# simple query\r\n",
                "empinfo.find_one()"
            ],
            "outputs": [],
            "metadata": {}
        },
        {
            "cell_type": "code",
            "execution_count": null,
            "source": [
                "# == select * from employee\r\n",
                "for record in empinfo.find({}):\r\n",
                "    print(record)"
            ],
            "outputs": [],
            "metadata": {}
        },
        {
            "cell_type": "code",
            "execution_count": null,
            "source": [
                "# == select * from employee where firstname=John\r\n",
                "for record in empinfo.find({'firstname': 'John'}):\r\n",
                "    print(record)"
            ],
            "outputs": [],
            "metadata": {}
        },
        {
            "cell_type": "code",
            "execution_count": null,
            "source": [
                "# query operators ($in, $lt, $gt)\r\n",
                "for record in empinfo.find({'qualification': {'$in': ['phd', 'master']}}):\r\n",
                "    print(record)"
            ],
            "outputs": [],
            "metadata": {}
        },
        {
            "cell_type": "code",
            "execution_count": null,
            "source": [
                "for record in empinfo.find({'qualification': 'master', 'age': {'$lt': 35}}):\r\n",
                "    print(record)"
            ],
            "outputs": [],
            "metadata": {}
        },
        {
            "cell_type": "code",
            "execution_count": null,
            "source": [
                "for record in empinfo.find({'$or': [{'firstname': 'Christopher'}, {'qualification': 'master'}]}):\r\n",
                "    print(record)"
            ],
            "outputs": [],
            "metadata": {}
        },
        {
            "cell_type": "code",
            "execution_count": null,
            "source": [
                "for record in empinfo.find({'$and': [{'firstname': 'John'}, {'qualification': 'master'}]}):\r\n",
                "    print(record)"
            ],
            "outputs": [],
            "metadata": {}
        },
        {
            "cell_type": "code",
            "execution_count": null,
            "source": [
                "inventory = db.inventory"
            ],
            "outputs": [],
            "metadata": {}
        },
        {
            "cell_type": "code",
            "execution_count": null,
            "source": [
                "inventory.insert_many([\r\n",
                "   { 'item': \"journal\", 'qty': 25, 'size': { 'h': 14, 'w': 21,'uom': \"cm\" }, 'status': \"A\" },\r\n",
                "   { 'item': \"notebook\", 'qty': 50,'size': { 'h': 8.5, 'w': 11,'uom': \"in\" },'status': \"A\" },\r\n",
                "   { 'item': \"paper\", 'qty': 100, 'size': { 'h': 8.5, 'w': 11,'uom': \"in\" },'status': \"D\" },\r\n",
                "   { 'item': \"planner\", 'qty': 75, 'size': { 'h': 22.85,'w': 30,'uom': \"cm\" },'status': \"D\" },\r\n",
                "   { 'item': \"postcard\", 'qty': 45, 'size': { 'h': 10, 'w': 15.25,'uom': \"cm\" },'status': \"A\" }\r\n",
                "])"
            ],
            "outputs": [],
            "metadata": {}
        },
        {
            "cell_type": "code",
            "execution_count": null,
            "source": [
                "for record in inventory.find({'size': { 'h': 14, 'w': 21,'uom': \"cm\" }}):\r\n",
                "    print(record)"
            ],
            "outputs": [],
            "metadata": {}
        },
        {
            "cell_type": "code",
            "execution_count": null,
            "source": [],
            "outputs": [],
            "metadata": {}
        }
    ],
    "metadata": {
        "orig_nbformat": 4,
        "language_info": {
            "name": "python",
            "version": "3.8.10",
            "mimetype": "text/x-python",
            "codemirror_mode": {
                "name": "ipython",
                "version": 3
            },
            "pygments_lexer": "ipython3",
            "nbconvert_exporter": "python",
            "file_extension": ".py"
        },
        "kernelspec": {
            "name": "python3",
            "display_name": "Python 3.8.10 64-bit"
        },
        "interpreter": {
            "hash": "45db40298448ab85ed3f29a7e55bfac64bbac2e38d7b2050e7b969fae675636b"
        }
    },
    "nbformat": 4,
    "nbformat_minor": 2
}